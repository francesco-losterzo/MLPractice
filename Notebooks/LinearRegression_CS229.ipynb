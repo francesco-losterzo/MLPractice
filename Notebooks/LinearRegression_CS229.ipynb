{
 "cells": [
  {
   "cell_type": "markdown",
   "metadata": {},
   "source": [
    "# Linear Regression: CS229\n",
    "Here some exercises taken from [Stanford CS229](http://cs229.stanford.edu/materials.html) ML classes"
   ]
  },
  {
   "cell_type": "markdown",
   "metadata": {},
   "source": [
    "## Problem Set #1"
   ]
  },
  {
   "cell_type": "markdown",
   "metadata": {},
   "source": [
    "### ex.1 : logistic regression\n",
    "Here only practical exercises are reported. For calculus/algebra-based exercises I usually use my pen and notebook"
   ]
  },
  {
   "cell_type": "code",
   "execution_count": 60,
   "metadata": {
    "collapsed": true
   },
   "outputs": [],
   "source": [
    "# import some useful stuff\n",
    "import numpy as np\n",
    "import math\n",
    "import matplotlib.pyplot as plt\n",
    "%matplotlib inline"
   ]
  },
  {
   "cell_type": "code",
   "execution_count": 61,
   "metadata": {},
   "outputs": [
    {
     "name": "stdout",
     "output_type": "stream",
     "text": [
      "- basics -\n",
      "(2, 3)\n",
      "(3, 1)\n",
      "(2, 1)\n",
      "- (theta)T * x(i)-\n",
      "(2,)\n",
      "[ 21.  43.]\n",
      "- y(i) * (theta)T * x(i) -\n",
      "(1, 2)\n",
      "[[  0.  43.]]\n",
      "- h(y(i)x(i)) -\n",
      "(2, 3)\n",
      "(2, 1)\n",
      "[[ 0.5]\n",
      " [ 1. ]]\n",
      "(2,)\n",
      "[ 0.5  1. ]\n",
      "- gradient -\n",
      "(3,)\n",
      "[ 1.  3.  4.]\n",
      "(3,)\n",
      "[ 1.  3.  4.]\n",
      "- hessian -\n",
      "[[ 21.]\n",
      " [ 43.]]\n",
      "(2, 1)\n",
      "[[ 1.]\n",
      " [ 1.]]\n",
      "2\n",
      "(3,)\n",
      "[ 1.  1.  2.]\n",
      "(3, 3)\n",
      "[[ 1.  1.  2.]\n",
      " [ 1.  1.  2.]\n",
      " [ 2.  2.  4.]]\n",
      "(3,)\n",
      "[ 1.  3.  4.]\n",
      "(3, 3)\n",
      "[[  1.   3.   4.]\n",
      " [  3.   9.  12.]\n",
      " [  4.  12.  16.]]\n",
      "(2, 3, 3)\n",
      "(2, 3, 3)\n",
      "[[[  3.03302450e-09   3.03302450e-09   6.06604899e-09]\n",
      "  [  3.03302450e-09   3.03302450e-09   6.06604899e-09]\n",
      "  [  3.03302450e-09   3.03302450e-09   6.06604899e-09]]\n",
      "\n",
      " [[  3.03302450e-09   3.03302450e-09   6.06604899e-09]\n",
      "  [  3.03302450e-09   3.03302450e-09   6.06604899e-09]\n",
      "  [  3.03302450e-09   3.03302450e-09   6.06604899e-09]]]\n",
      "(3, 3)\n",
      "[[  6.06604899e-09   6.06604899e-09   1.21320980e-08]\n",
      " [  6.06604899e-09   6.06604899e-09   1.21320980e-08]\n",
      " [  6.06604899e-09   6.06604899e-09   1.21320980e-08]]\n",
      "[[0 1 2]\n",
      " [3 4 5]\n",
      " [6 7 8]]\n",
      "[[  0.    1.5   3. ]\n",
      " [  4.5   6.    7.5]\n",
      " [  9.   10.5  12. ]]\n",
      "(3,)\n"
     ]
    }
   ],
   "source": [
    "# some numpy practice and toy example on the different components\n",
    "x = np.array([[1., 1., 2.],\n",
    "              [1., 3., 4.]])\n",
    "theta = np.array([4., 5., 6.])\n",
    "y = np.array([[0.],\n",
    "             [1.]])\n",
    "\n",
    "# some \"cosmetics\" to ease the matrix algebra\n",
    "theta = theta.reshape(theta.size,1)\n",
    "\n",
    "print(\"- basics -\")\n",
    "print(x.shape)\n",
    "print(theta.shape)\n",
    "print(y.shape)\n",
    "print(\"- (theta)T * x(i)-\")\n",
    "tTx = np.sum(np.transpose(theta)*x, axis=-1)\n",
    "print(tTx.shape)\n",
    "print(tTx)\n",
    "print(\"- y(i) * (theta)T * x(i) -\")\n",
    "exp = np.transpose(y)*tTx\n",
    "print(exp.shape)\n",
    "print(exp)\n",
    "print(\"- h(y(i)x(i)) -\")\n",
    "h = 1./(1.+np.exp(-y*np.sum(tTx, axis = -1)))\n",
    "#yx = np.transpose(y)*x\n",
    "yx = y*x\n",
    "print(yx.shape)\n",
    "hh = 1./(1+np.exp(-np.sum(np.transpose(theta)*yx, axis = -1)))\n",
    "print(h.shape)\n",
    "print(h)\n",
    "print(hh.shape)\n",
    "print(hh)\n",
    "print(\"- gradient -\")\n",
    "g = np.sum( h*y*x, axis = 0)\n",
    "# it is useful to reshape hh so that the function \"h\" can be defined only once and\n",
    "# can operate both on \"x\" and on \"xy\", as needed for the Hessian\n",
    "gg = np.sum( hh.reshape(hh.size,1)*y*x, axis = 0)\n",
    "print(g.shape)\n",
    "print(g)\n",
    "print(gg.shape)\n",
    "print(gg)\n",
    "print(\"- hessian -\")\n",
    "tTx = tTx.reshape(tTx.size,1)\n",
    "print(tTx)\n",
    "hx = 1./(1.+np.exp(-np.sum(tTx, axis = -1)))\n",
    "hx = hx.reshape(hx.size,1)\n",
    "print(hx.shape)\n",
    "print(hx)\n",
    "out_list = []\n",
    "print(x.shape[0])\n",
    "for line in range(x.shape[0]):\n",
    "    print(x[line,:].shape)\n",
    "    print(x[line,:])\n",
    "    out_i = np.outer(x[line,:],x[line,:])\n",
    "    print(out_i.shape)\n",
    "    print(out_i)\n",
    "    out_list.append(out_i)\n",
    "out = np.array(out_list)\n",
    "print(out.shape)\n",
    "hes = np.zeros_like(out)\n",
    "for entry in range(out.shape[0]):\n",
    "    hes += np.sum( hx[entry] * (1 - hx[entry]) * out[entry,:,:], axis = 0)\n",
    "print(hes.shape)\n",
    "print(hes)\n",
    "realhes = np.sum(hes, axis = 0)\n",
    "print(realhes.shape)\n",
    "print(realhes)\n",
    "\n",
    "a = np.array([0.5])\n",
    "mat1 = np.array(range(9))\n",
    "mat1 = mat1.reshape(3,3)\n",
    "print(mat1)\n",
    "\n",
    "mat2 = np.array(range(9))\n",
    "mat2 = mat2.reshape(3,3)\n",
    "\n",
    "mat1 = a*mat1\n",
    "mat1 += mat2\n",
    "\n",
    "print(mat1)\n",
    "\n",
    "\n",
    "g = np.array([1,1,1])\n",
    "print(g.shape)"
   ]
  },
  {
   "cell_type": "markdown",
   "metadata": {},
   "source": [
    "#### a short summary\n",
    "\n",
    "here define the generalized Newton's method (i.e. the Newton-Raphson method)\n",
    "\n",
    "$ \\theta := \\theta - H^{-1}\\nabla_{\\theta}f(\\theta) $\n",
    "\n",
    "where $H$ is the Hessian and $\\nabla_{\\theta}$ are the Hessian and the gradient respectively (always calculated wrt/ $\\theta$)\n",
    "\n",
    "Doing all the math, one obtains the following:\n",
    "\n",
    "$ \\frac{\\partial}{\\partial\\theta_k}J(\\theta) = -\\frac{1}{m}\\sum_{i=1}^{m} h_{\\theta}({-y^{(i)}x^{(i)}})y^{(i)}x^{(i)}_{k} $\n",
    "\n",
    "$ H = \\frac{1}{m}\\sum_{i=1}^{m}h_{\\theta}(x^{(i)})(1-h_{\\theta}(x^{(i)}))x^{(i)}x^{(i)T} $\n",
    "\n",
    "where $h_{\\theta}(x^{(i)}) = \\frac{1}{1 + \\exp(-\\theta^{T}x^{(i)})}$"
   ]
  },
  {
   "cell_type": "code",
   "execution_count": 62,
   "metadata": {
    "collapsed": true
   },
   "outputs": [],
   "source": [
    "# take as input x, y, the initial thetas and the number of iterations and performs minimisation\n",
    "# x, y and theta are numpy arrays\n",
    "\n",
    "def htheta(x, theta):\n",
    "    # htheta stands fot the \"h_{\\theta}(x)\" function\n",
    "    h = 1./(1+np.exp(-np.sum(np.transpose(theta)*x, axis = -1)))\n",
    "    # see in the practice cell why it is useful to reshape h\n",
    "    return h.reshape(h.size,1)\n",
    "\n",
    "def Hess(x, theta):\n",
    "    # calculate outer products and store them into matrices\n",
    "    out_list = []\n",
    "    for line in range(x.shape[0]):\n",
    "        out_list.append(np.outer(x[line,:],x[line,:]))\n",
    "    out = np.array(out_list)\n",
    "    #print('outer prod')\n",
    "    #print(out)\n",
    "    \n",
    "    # calculate the terms of the sum\n",
    "    tmp = np.zeros_like(out)\n",
    "    for entry in range(out.shape[0]):\n",
    "        tmp[entry] = htheta(x, theta)[entry] * (1 - htheta(x, theta)[entry]) * out[entry,:,:]\n",
    "    # sum!\n",
    "    hes = np.sum(tmp, axis = 0)\n",
    "    return hes\n",
    "\n",
    "def Newton(x, y, theta, n_iters):\n",
    "    mm = x.shape[0]\n",
    "    for i in range(n_iters):\n",
    "        # grad stands for gradient\n",
    "        # hess stands for Hessian\n",
    "        grad = -1./mm * np.sum( htheta(-y*x, theta)*y*x, axis = 0 )\n",
    "        hess = 1./mm * Hess(x, theta)\n",
    "        theta = theta - np.linalg.inv(hess).dot(grad)\n",
    "        #theta.reshape(theta.size,1)\n",
    "    return theta"
   ]
  },
  {
   "cell_type": "code",
   "execution_count": 63,
   "metadata": {},
   "outputs": [
    {
     "name": "stdout",
     "output_type": "stream",
     "text": [
      "x:\n",
      "(99, 3)\n",
      "y:\n",
      "(99, 1)\n",
      "theta\n",
      "(3,)\n"
     ]
    }
   ],
   "source": [
    "# now load data\n",
    "x = np.loadtxt('../data/CS229_PS1_ex1_logistic_x.txt')\n",
    "y = np.loadtxt('../data/CS229_PS1_ex1_logistic_y.txt')\n",
    "\n",
    "## some cosmetics\n",
    "y_train = y.reshape(y.size, 1)\n",
    "\n",
    "# add intercept term to x\n",
    "intercept = np.ones(x.shape[0]).reshape(x.shape[0],1)\n",
    "x_train = np.hstack((intercept, x))\n",
    "#x_train = x_train[0:2,:]\n",
    "#y_train = y_train[0:2,:]\n",
    "print('x:')\n",
    "print(x_train.shape)\n",
    "#print(x_train)\n",
    "\n",
    "print('y:')\n",
    "print(y_train.shape)\n",
    "#print(y_train)\n",
    "\n",
    "# initialize theta at '0'\n",
    "theta = np.zeros(x_train.shape[1])\n",
    "print('theta')\n",
    "#theta = theta.reshape(x_train.shape[1],1)\n",
    "print(theta.shape)\n",
    "#print(theta)"
   ]
  },
  {
   "cell_type": "code",
   "execution_count": 64,
   "metadata": {},
   "outputs": [
    {
     "name": "stdout",
     "output_type": "stream",
     "text": [
      "(3,)\n",
      "[-2.6205116   0.76037154  1.17194674]\n"
     ]
    }
   ],
   "source": [
    "# now run ...\n",
    "best_theta = Newton(x_train, y_train, theta, 10)\n",
    "print(best_theta.shape)\n",
    "print(best_theta)"
   ]
  },
  {
   "cell_type": "code",
   "execution_count": 79,
   "metadata": {},
   "outputs": [
    {
     "data": {
      "text/plain": [
       "<matplotlib.text.Text at 0x10688b1d0>"
      ]
     },
     "execution_count": 79,
     "metadata": {},
     "output_type": "execute_result"
    },
    {
     "data": {
      "image/png": "[encoded data removed]",
      "text/plain": [
       "<matplotlib.figure.Figure at 0x1063dff50>"
      ]
     },
     "metadata": {},
     "output_type": "display_data"
    }
   ],
   "source": [
    "# now plot the data\n",
    "plt.scatter(x[y==1][:,0],x[y==1][:,1],c='r',marker='o')\n",
    "plt.scatter(x[y==-1][:,0],x[y==-1][:,1],c='b',marker='s')\n",
    "plt.xlabel('x1')\n",
    "plt.ylabel('x2')\n"
   ]
  },
  {
   "cell_type": "markdown",
   "metadata": {},
   "source": [
    "The regression is performed with:\n",
    "\n",
    "$ y = \\theta_0 + \\theta_{1}x_1 + \\theta_{2}x_2 $\n",
    "\n",
    "so the separation line between the two categories is $ y = 0 $, therefore:\n",
    "\n",
    "$ x_2 = -\\frac{\\theta_1}{\\theta_2}x_1 -\\frac{\\theta_0}{\\theta_2} $"
   ]
  },
  {
   "cell_type": "code",
   "execution_count": 85,
   "metadata": {},
   "outputs": [
    {
     "name": "stdout",
     "output_type": "stream",
     "text": [
      "[-2.6205116   0.76037154  1.17194674]\n"
     ]
    },
    {
     "data": {
      "text/plain": [
       "[<matplotlib.lines.Line2D at 0x1062a6750>]"
      ]
     },
     "execution_count": 85,
     "metadata": {},
     "output_type": "execute_result"
    },
    {
     "data": {
      "image/png": "[encoded data removed]",
      "text/plain": [
       "<matplotlib.figure.Figure at 0x1064b0150>"
      ]
     },
     "metadata": {},
     "output_type": "display_data"
    }
   ],
   "source": [
    "# the scatter plot is copied from above :)\n",
    "plt.scatter(x[y==1][:,0],x[y==1][:,1],c='r',marker='o')\n",
    "plt.scatter(x[y==-1][:,0],x[y==-1][:,1],c='b',marker='s')\n",
    "plt.xlabel('x1')\n",
    "plt.ylabel('x2')\n",
    "\n",
    "# now implement the line\n",
    "print(best_theta)\n",
    "\n",
    "x1 = range(0,9)\n",
    "x2 = [-best_theta[1]/best_theta[2]*xx - best_theta[0]/best_theta[2] for xx in x1]\n",
    "plt.plot(x1, x2)\n"
   ]
  },
  {
   "cell_type": "markdown",
   "metadata": {
    "collapsed": true
   },
   "source": [
    "### ex. 5 : regression for denoising quasar spectra\n",
    "Quasars have a *light spectrum* (i.e. a flux-vs-wavelenght curve) as follows:\n",
    "- if $\\lambda > \\lambda_{L-\\alpha}$ : $ f_{obs}(\\lambda) = f(\\lambda) + noise(\\lambda)$\n",
    "\n",
    "- if $\\lambda < \\lambda_{L-\\alpha}$ : $ f_{obs}(\\lambda) = absorption(\\lambda) \\times f(\\lambda) + noise(\\lambda)$\n",
    " \n",
    "where $\\lambda_{L-\\alpha}$ is the Lyman-$\\alpha$ wavelenght, $f(\\lambda)$ is the emitted light spectrum and $f_{obs}(\\lambda)$ is the observed light spectrum.\n",
    "\n",
    "It is our goal to estimate the spectrum $f$ of an observed quasar"
   ]
  },
  {
   "cell_type": "code",
   "execution_count": 1,
   "metadata": {
    "collapsed": true
   },
   "outputs": [],
   "source": [
    "# import useful stuff\n",
    "import numpy as np\n",
    "import matplotlib.pyplot as plt\n",
    "%matplotlib inline"
   ]
  },
  {
   "cell_type": "code",
   "execution_count": 2,
   "metadata": {},
   "outputs": [
    {
     "name": "stdout",
     "output_type": "stream",
     "text": [
      "(201, 450)\n"
     ]
    }
   ],
   "source": [
    "# load the data (which are in csv format). The files contain:\n",
    "# - a single header row containing 450 numbers corresponding integral wavelengths in the interval [1150, 1600] angstroms\n",
    "# - The remaining lines contain relative flux measurements for each wavelength\n",
    "\n",
    "train_data = np.genfromtxt('../data/CS229_PS1_ex5_quasar_train.csv', delimiter=',')\n",
    "print(train_data.shape)\n"
   ]
  },
  {
   "cell_type": "code",
   "execution_count": 3,
   "metadata": {},
   "outputs": [
    {
     "name": "stdout",
     "output_type": "stream",
     "text": [
      "(450, 1)\n",
      "(450, 1)\n",
      "(450, 2)\n"
     ]
    }
   ],
   "source": [
    "# focus on the first training example, i.e. the first non-header row\n",
    "x_ex = train_data[0,:].reshape(-1,1)\n",
    "print(x_ex.shape)\n",
    "y_ex = train_data[1,:].reshape(-1,1)\n",
    "print(y_ex.shape)\n",
    "\n",
    "# add intercept term to x\n",
    "intercept = np.ones(x_ex.shape[0]).reshape(x_ex.shape[0],1)\n",
    "x_ex = np.hstack((intercept, x_ex))\n",
    "print(x_ex.shape)"
   ]
  },
  {
   "cell_type": "markdown",
   "metadata": {},
   "source": [
    "When expressing the linear regression problem in matrix form, one can take the gradient of the cost function $J(\\theta)$ and set it to zero, thus obtaining the **normal equation**:\n",
    "\n",
    "$ X^{T}X\\theta = X^{T}\\vec{y} $\n",
    "\n",
    "and the solution is:\n",
    "\n",
    "$ \\theta = (X^{T}X)^{-1}X^{T}\\vec{y} $\n",
    "\n",
    "Here $X$ is the matrix built putting in each row the $x^(i)$, and $\\vec{y}$ is the vector having the $y^{i}$ in each element."
   ]
  },
  {
   "cell_type": "code",
   "execution_count": 4,
   "metadata": {},
   "outputs": [
    {
     "name": "stdout",
     "output_type": "stream",
     "text": [
      "(2, 1)\n",
      "[[  2.51339906e+00]\n",
      " [ -9.81122145e-04]]\n"
     ]
    }
   ],
   "source": [
    "# implement unweighted linear regression using the *normal equation*\n",
    "\n",
    "# build individual terms\n",
    "xT_ex = np.transpose(x_ex)\n",
    "xTx_ex = np.dot(xT_ex, x_ex)\n",
    "\n",
    "theta = np.dot( np.dot( np.linalg.inv(xTx_ex), xT_ex), y_ex)\n",
    "print(theta.shape)\n",
    "print(theta)"
   ]
  },
  {
   "cell_type": "code",
   "execution_count": 5,
   "metadata": {},
   "outputs": [
    {
     "data": {
      "text/plain": [
       "[<matplotlib.lines.Line2D at 0x10bffb850>]"
      ]
     },
     "execution_count": 5,
     "metadata": {},
     "output_type": "execute_result"
    },
    {
     "data": {
      "image/png": "[encoded data removed]",
      "text/plain": [
       "<matplotlib.figure.Figure at 0x10ac68850>"
      ]
     },
     "metadata": {},
     "output_type": "display_data"
    }
   ],
   "source": [
    "# plot data and straight line from LR (need to ignore the intercept term from x_ex)\n",
    "plt.scatter(x_ex[:,1], y_ex)\n",
    "\n",
    "# as in the previous exercise, take the info from theta\n",
    "# LR: y = theta0 + x*theta1\n",
    "\n",
    "x_LR = range(1100,1650)\n",
    "y_LR = [theta[1,0]*xx + theta[0,0] for xx in x_LR]\n",
    "plt.plot(x_LR, y_LR, c='r')"
   ]
  },
  {
   "cell_type": "code",
   "execution_count": 6,
   "metadata": {},
   "outputs": [
    {
     "name": "stdout",
     "output_type": "stream",
     "text": [
      "(450, 1)\n",
      "(450, 1)\n"
     ]
    }
   ],
   "source": [
    "##### bonus: try to produce an equivalent result with sklearn and its built-in LR\n",
    "from sklearn.linear_model import LinearRegression\n",
    "\n",
    "# import the data \n",
    "x_train = train_data[0,:].reshape(-1,1)\n",
    "print(x_train.shape)\n",
    "y_train = train_data[1,:].reshape(-1,1)\n",
    "print(y_train.shape)"
   ]
  },
  {
   "cell_type": "code",
   "execution_count": 7,
   "metadata": {},
   "outputs": [
    {
     "name": "stderr",
     "output_type": "stream",
     "text": [
      "/usr/local/lib/python2.7/site-packages/scipy/linalg/basic.py:1018: RuntimeWarning: internal gelsd driver lwork query error, required iwork dimension not returned. This is likely the result of LAPACK bug 0038, fixed in LAPACK 3.2.2 (released July 21, 2010). Falling back to 'gelss' driver.\n",
      "  warnings.warn(mesg, RuntimeWarning)\n"
     ]
    },
    {
     "data": {
      "text/plain": [
       "LinearRegression(copy_X=True, fit_intercept=True, n_jobs=1, normalize=False)"
      ]
     },
     "execution_count": 7,
     "metadata": {},
     "output_type": "execute_result"
    }
   ],
   "source": [
    "# feed data into the model and fit it\n",
    "\n",
    "model = LinearRegression()\n",
    "model.fit(x_train, y_train)"
   ]
  },
  {
   "cell_type": "code",
   "execution_count": 8,
   "metadata": {},
   "outputs": [
    {
     "name": "stdout",
     "output_type": "stream",
     "text": [
      "(1, 1)\n",
      "(1,)\n",
      "[[-0.00098112]]\n",
      "[ 2.51339906]\n"
     ]
    }
   ],
   "source": [
    "# retrieve the result: y = m*x + q\n",
    "m = model.coef_\n",
    "q = model.intercept_\n",
    "\n",
    "print(m.shape)\n",
    "print(q.shape)\n",
    "\n",
    "print(m)\n",
    "print(q)\n",
    "# !!!! it's exactly the same as above (of course .. )"
   ]
  },
  {
   "cell_type": "markdown",
   "metadata": {
    "collapsed": true
   },
   "source": [
    "Now implement locally weighted regression (LWR) for the first training example (again).\n",
    "Use the weights:\n",
    "\n",
    "$ w_{i} = \\exp(-\\frac{(x - x^{i})^2}{2\\tau^{2}}) $\n",
    "\n",
    "with $\\tau = 5$\n",
    "\n",
    "The normal equation for LWR is:\n",
    "\n",
    "$ \\theta = (X^{T}WX)^{-1}X^{T}W\\vec{y} $\n",
    "\n",
    "where $W$ is a diagonal matrix with terms $W_{ii} = \\frac{1}{2}w_{i}$\n"
   ]
  },
  {
   "cell_type": "code",
   "execution_count": 1,
   "metadata": {
    "collapsed": true
   },
   "outputs": [],
   "source": [
    "# import useful stuff\n",
    "import numpy as np\n",
    "import matplotlib.pyplot as plt\n",
    "%matplotlib inline\n",
    "import math"
   ]
  },
  {
   "cell_type": "code",
   "execution_count": 2,
   "metadata": {},
   "outputs": [
    {
     "name": "stdout",
     "output_type": "stream",
     "text": [
      "(201, 450)\n"
     ]
    }
   ],
   "source": [
    "# load the data (which are in csv format). The files contain:\n",
    "# - a single header row containing 450 numbers corresponding integral wavelengths in the interval [1150, 1600] angstroms\n",
    "# - The remaining lines contain relative flux measurements for each wavelength\n",
    "\n",
    "train_data = np.genfromtxt('../data/CS229_PS1_ex5_quasar_train.csv', delimiter=',')\n",
    "print(train_data.shape)"
   ]
  },
  {
   "cell_type": "code",
   "execution_count": 3,
   "metadata": {},
   "outputs": [
    {
     "name": "stdout",
     "output_type": "stream",
     "text": [
      "(450, 1)\n",
      "(450, 1)\n"
     ]
    }
   ],
   "source": [
    "# focus on the first training example, i.e. the first non-header row\n",
    "x_ex = train_data[0,:].reshape(-1,1)\n",
    "print(x_ex.shape)\n",
    "y_ex = train_data[1,:].reshape(-1,1)\n",
    "print(y_ex.shape)"
   ]
  },
  {
   "cell_type": "code",
   "execution_count": 8,
   "metadata": {
    "collapsed": true
   },
   "outputs": [],
   "source": [
    "# strategy: for each point in the training dataset, fit the whole thing with weights\n",
    "def getLWR(x, y, tau):\n",
    "    \"\"\"\n",
    "    'x' and 'y' are the training sample and its responses respectively.\n",
    "    \"\"\"\n",
    "    \n",
    "    # check\n",
    "    if x.shape[0] != y.shape[0]:\n",
    "        print('ERROR: x and y have to be of the same lenght')\n",
    "        return\n",
    "    \n",
    "    # here store the regression\n",
    "    yhat = np.zeros(y.shape)\n",
    "    \n",
    "    # for each entry in (x,y) run the full local regression\n",
    "    # -- this means that the current element has to be removed from the arrays!\n",
    "    for entry in range(x.shape[0]):\n",
    "        this_x = x[entry].reshape(-1,1)\n",
    "        this_y = y[entry].reshape(-1,1)\n",
    "        \n",
    "        rest_x = np.delete(x, entry).reshape(-1,1)\n",
    "        rest_y = np.delete(y, entry).reshape(-1,1)\n",
    "                \n",
    "        # add intercept term to x and dump it into X (matrix)\n",
    "        intercept = np.ones(rest_x.shape[0]).reshape(rest_x.shape[0],1)\n",
    "        rest_X = np.hstack((intercept, rest_x))\n",
    "        #print('---- rest_X')\n",
    "        #print(rest_X)\n",
    "        \n",
    "        w_i = np.zeros(rest_y.shape)\n",
    "        \n",
    "        # get the weights\n",
    "        for i in range(rest_x.shape[0]):\n",
    "            w_i[i] = math.exp(-.5 * (this_x[0] - rest_x[i])**2 / tau**2)\n",
    "        #w_i = np.ones(rest_y.shape)\n",
    "        # turn w_i into a diagonal matrix with Wii = .5*w_i\n",
    "        W = np.diag((.5*w_i).reshape(-1))\n",
    "        \n",
    "        # use the normal equation\n",
    "        X = rest_X\n",
    "        \n",
    "        XT = np.transpose(X)\n",
    "        XTWX = np.dot( np.dot(XT, W), X)\n",
    "        XTWy = np.dot( np.dot(XT, W), rest_y)\n",
    "        theta_i = np.dot(np.linalg.inv(XTWX), XTWy)\n",
    "        \n",
    "        # add intercept term to x and dump it into X (matrix)\n",
    "        intercept = np.ones(this_x.shape[0]).reshape(this_x.shape[0],1)\n",
    "        this_X = np.hstack((intercept, this_x))\n",
    "        \n",
    "        yhat[entry] = np.sum(np.transpose(theta_i) * this_X)\n",
    "    \n",
    "    return yhat"
   ]
  },
  {
   "cell_type": "code",
   "execution_count": 9,
   "metadata": {},
   "outputs": [],
   "source": [
    "pred = getLWR(x_ex, y_ex, 5)"
   ]
  },
  {
   "cell_type": "code",
   "execution_count": 10,
   "metadata": {},
   "outputs": [
    {
     "data": {
      "text/plain": [
       "[<matplotlib.lines.Line2D at 0x1125d8c10>]"
      ]
     },
     "execution_count": 10,
     "metadata": {},
     "output_type": "execute_result"
    },
    {
     "data": {
      "image/png": "[encoded data removed]",
      "text/plain": [
       "<matplotlib.figure.Figure at 0x1125d8bd0>"
      ]
     },
     "metadata": {},
     "output_type": "display_data"
    }
   ],
   "source": [
    "# plot the data\n",
    "plt.scatter(x_ex, y_ex)\n",
    "\n",
    "# plot the LWR\n",
    "plt.plot(x_ex, pred, c = 'r')"
   ]
  },
  {
   "cell_type": "code",
   "execution_count": 14,
   "metadata": {},
   "outputs": [],
   "source": [
    "# test different values of tau\n",
    "taus = [1, 5, 10, 100, 1000]\n",
    "yhat_list = []\n",
    "for tau in taus:\n",
    "    yhat_list.append(getLWR(x_ex, y_ex, tau))"
   ]
  },
  {
   "cell_type": "code",
   "execution_count": 16,
   "metadata": {},
   "outputs": [
    {
     "name": "stdout",
     "output_type": "stream",
     "text": [
      "5\n"
     ]
    },
    {
     "data": {
      "text/plain": [
       "<matplotlib.legend.Legend at 0x1132d9b90>"
      ]
     },
     "execution_count": 16,
     "metadata": {},
     "output_type": "execute_result"
    },
    {
     "data": {
      "image/png": "[encoded data removed]",
      "text/plain": [
       "<matplotlib.figure.Figure at 0x1132e2890>"
      ]
     },
     "metadata": {},
     "output_type": "display_data"
    }
   ],
   "source": [
    "print(len(yhat_list))\n",
    "\n",
    "# and plot them with different colors\n",
    "# -- need to work on comsetics here\n",
    "color_list = ['r','b','g','m','k']\n",
    "plt.scatter(x_ex, y_ex)\n",
    "for idx in range(len(yhat_list)):\n",
    "    col = color_list[idx]\n",
    "    yyy = yhat_list[idx]\n",
    "    tau = taus[idx]\n",
    "    plt.plot(x_ex, yyy, c=col, label='tau = '+str(tau))\n",
    "plt.legend(loc='best')"
   ]
  },
  {
   "cell_type": "code",
   "execution_count": null,
   "metadata": {
    "collapsed": true
   },
   "outputs": [],
   "source": []
  }
 ],
 "metadata": {
  "kernelspec": {
   "display_name": "Python 2",
   "language": "python",
   "name": "python2"
  },
  "language_info": {
   "codemirror_mode": {
    "name": "ipython",
    "version": 2
   },
   "file_extension": ".py",
   "mimetype": "text/x-python",
   "name": "python",
   "nbconvert_exporter": "python",
   "pygments_lexer": "ipython2",
   "version": "2.7.13"
  }
 },
 "nbformat": 4,
 "nbformat_minor": 2
}
