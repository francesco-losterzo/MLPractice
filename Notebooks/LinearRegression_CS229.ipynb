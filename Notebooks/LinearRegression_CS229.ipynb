{
 "cells": [
  {
   "cell_type": "markdown",
   "metadata": {},
   "source": [
    "# Linear Regression: CS229\n",
    "Here some exercises taken from [Stanford CS229](http://cs229.stanford.edu/materials.html) ML classes"
   ]
  },
  {
   "cell_type": "markdown",
   "metadata": {},
   "source": [
    "## Problem Set #1"
   ]
  },
  {
   "cell_type": "markdown",
   "metadata": {},
   "source": [
    "### ex.1\n",
    "Here only practical exercises are reported. For calculus/algebra-based exercises I usually use my pen and notebook"
   ]
  },
  {
   "cell_type": "code",
   "execution_count": 60,
   "metadata": {
    "collapsed": true
   },
   "outputs": [],
   "source": [
    "# import some useful stuff\n",
    "import numpy as np\n",
    "import math\n",
    "import matplotlib.pyplot as plt\n",
    "%matplotlib inline"
   ]
  },
  {
   "cell_type": "code",
   "execution_count": 61,
   "metadata": {},
   "outputs": [
    {
     "name": "stdout",
     "output_type": "stream",
     "text": [
      "- basics -\n",
      "(2, 3)\n",
      "(3, 1)\n",
      "(2, 1)\n",
      "- (theta)T * x(i)-\n",
      "(2,)\n",
      "[ 21.  43.]\n",
      "- y(i) * (theta)T * x(i) -\n",
      "(1, 2)\n",
      "[[  0.  43.]]\n",
      "- h(y(i)x(i)) -\n",
      "(2, 3)\n",
      "(2, 1)\n",
      "[[ 0.5]\n",
      " [ 1. ]]\n",
      "(2,)\n",
      "[ 0.5  1. ]\n",
      "- gradient -\n",
      "(3,)\n",
      "[ 1.  3.  4.]\n",
      "(3,)\n",
      "[ 1.  3.  4.]\n",
      "- hessian -\n",
      "[[ 21.]\n",
      " [ 43.]]\n",
      "(2, 1)\n",
      "[[ 1.]\n",
      " [ 1.]]\n",
      "2\n",
      "(3,)\n",
      "[ 1.  1.  2.]\n",
      "(3, 3)\n",
      "[[ 1.  1.  2.]\n",
      " [ 1.  1.  2.]\n",
      " [ 2.  2.  4.]]\n",
      "(3,)\n",
      "[ 1.  3.  4.]\n",
      "(3, 3)\n",
      "[[  1.   3.   4.]\n",
      " [  3.   9.  12.]\n",
      " [  4.  12.  16.]]\n",
      "(2, 3, 3)\n",
      "(2, 3, 3)\n",
      "[[[  3.03302450e-09   3.03302450e-09   6.06604899e-09]\n",
      "  [  3.03302450e-09   3.03302450e-09   6.06604899e-09]\n",
      "  [  3.03302450e-09   3.03302450e-09   6.06604899e-09]]\n",
      "\n",
      " [[  3.03302450e-09   3.03302450e-09   6.06604899e-09]\n",
      "  [  3.03302450e-09   3.03302450e-09   6.06604899e-09]\n",
      "  [  3.03302450e-09   3.03302450e-09   6.06604899e-09]]]\n",
      "(3, 3)\n",
      "[[  6.06604899e-09   6.06604899e-09   1.21320980e-08]\n",
      " [  6.06604899e-09   6.06604899e-09   1.21320980e-08]\n",
      " [  6.06604899e-09   6.06604899e-09   1.21320980e-08]]\n",
      "[[0 1 2]\n",
      " [3 4 5]\n",
      " [6 7 8]]\n",
      "[[  0.    1.5   3. ]\n",
      " [  4.5   6.    7.5]\n",
      " [  9.   10.5  12. ]]\n",
      "(3,)\n"
     ]
    }
   ],
   "source": [
    "# some numpy practice and toy example on the different components\n",
    "x = np.array([[1., 1., 2.],\n",
    "              [1., 3., 4.]])\n",
    "theta = np.array([4., 5., 6.])\n",
    "y = np.array([[0.],\n",
    "             [1.]])\n",
    "\n",
    "# some \"cosmetics\" to ease the matrix algebra\n",
    "theta = theta.reshape(theta.size,1)\n",
    "\n",
    "print(\"- basics -\")\n",
    "print(x.shape)\n",
    "print(theta.shape)\n",
    "print(y.shape)\n",
    "print(\"- (theta)T * x(i)-\")\n",
    "tTx = np.sum(np.transpose(theta)*x, axis=-1)\n",
    "print(tTx.shape)\n",
    "print(tTx)\n",
    "print(\"- y(i) * (theta)T * x(i) -\")\n",
    "exp = np.transpose(y)*tTx\n",
    "print(exp.shape)\n",
    "print(exp)\n",
    "print(\"- h(y(i)x(i)) -\")\n",
    "h = 1./(1.+np.exp(-y*np.sum(tTx, axis = -1)))\n",
    "#yx = np.transpose(y)*x\n",
    "yx = y*x\n",
    "print(yx.shape)\n",
    "hh = 1./(1+np.exp(-np.sum(np.transpose(theta)*yx, axis = -1)))\n",
    "print(h.shape)\n",
    "print(h)\n",
    "print(hh.shape)\n",
    "print(hh)\n",
    "print(\"- gradient -\")\n",
    "g = np.sum( h*y*x, axis = 0)\n",
    "# it is useful to reshape hh so that the function \"h\" can be defined only once and\n",
    "# can operate both on \"x\" and on \"xy\", as needed for the Hessian\n",
    "gg = np.sum( hh.reshape(hh.size,1)*y*x, axis = 0)\n",
    "print(g.shape)\n",
    "print(g)\n",
    "print(gg.shape)\n",
    "print(gg)\n",
    "print(\"- hessian -\")\n",
    "tTx = tTx.reshape(tTx.size,1)\n",
    "print(tTx)\n",
    "hx = 1./(1.+np.exp(-np.sum(tTx, axis = -1)))\n",
    "hx = hx.reshape(hx.size,1)\n",
    "print(hx.shape)\n",
    "print(hx)\n",
    "out_list = []\n",
    "print(x.shape[0])\n",
    "for line in range(x.shape[0]):\n",
    "    print(x[line,:].shape)\n",
    "    print(x[line,:])\n",
    "    out_i = np.outer(x[line,:],x[line,:])\n",
    "    print(out_i.shape)\n",
    "    print(out_i)\n",
    "    out_list.append(out_i)\n",
    "out = np.array(out_list)\n",
    "print(out.shape)\n",
    "hes = np.zeros_like(out)\n",
    "for entry in range(out.shape[0]):\n",
    "    hes += np.sum( hx[entry] * (1 - hx[entry]) * out[entry,:,:], axis = 0)\n",
    "print(hes.shape)\n",
    "print(hes)\n",
    "realhes = np.sum(hes, axis = 0)\n",
    "print(realhes.shape)\n",
    "print(realhes)\n",
    "\n",
    "a = np.array([0.5])\n",
    "mat1 = np.array(range(9))\n",
    "mat1 = mat1.reshape(3,3)\n",
    "print(mat1)\n",
    "\n",
    "mat2 = np.array(range(9))\n",
    "mat2 = mat2.reshape(3,3)\n",
    "\n",
    "mat1 = a*mat1\n",
    "mat1 += mat2\n",
    "\n",
    "print(mat1)\n",
    "\n",
    "\n",
    "g = np.array([1,1,1])\n",
    "print(g.shape)"
   ]
  },
  {
   "cell_type": "markdown",
   "metadata": {},
   "source": [
    "here define the generalized Newton's method (i.e. the Newton-Raphson method)\n",
    "\n",
    "$ \\theta := \\theta - H^{-1}\\nabla_{\\theta}f(\\theta) $\n",
    "\n",
    "where $H$ is the Hessian and $\\nabla_{\\theta}$ are the Hessian and the gradient respectively (always calculated wrt/ $\\theta$)\n",
    "\n",
    "Doing all the math, one obtains the following:\n",
    "\n",
    "$ \\frac{\\partial}{\\partial\\theta_k}J(\\theta) = -\\frac{1}{m}\\sum_{i=1}^{m} h_{\\theta}({-y^{(i)}x^{(i)}})y^{(i)}x^{(i)}_{k} $\n",
    "\n",
    "$ H = \\frac{1}{m}\\sum_{i=1}^{m}h_{\\theta}(x^{(i)})(1-h_{\\theta}(x^{(i)}))x^{(i)}x^{(i)T} $\n",
    "\n",
    "where $h_{\\theta}(x^{(i)}) = \\frac{1}{1 + \\exp(-\\theta^{T}x^{(i)})}$"
   ]
  },
  {
   "cell_type": "code",
   "execution_count": 62,
   "metadata": {
    "collapsed": true
   },
   "outputs": [],
   "source": [
    "# take as input x, y, the initial thetas and the number of iterations and performs minimisation\n",
    "# x, y and theta are numpy arrays\n",
    "\n",
    "def htheta(x, theta):\n",
    "    # htheta stands fot the \"h_{\\theta}(x)\" function\n",
    "    h = 1./(1+np.exp(-np.sum(np.transpose(theta)*x, axis = -1)))\n",
    "    # see in the practice cell why it is useful to reshape h\n",
    "    return h.reshape(h.size,1)\n",
    "\n",
    "def Hess(x, theta):\n",
    "    # calculate outer products and store them into matrices\n",
    "    out_list = []\n",
    "    for line in range(x.shape[0]):\n",
    "        out_list.append(np.outer(x[line,:],x[line,:]))\n",
    "    out = np.array(out_list)\n",
    "    #print('outer prod')\n",
    "    #print(out)\n",
    "    \n",
    "    # calculate the terms of the sum\n",
    "    tmp = np.zeros_like(out)\n",
    "    for entry in range(out.shape[0]):\n",
    "        tmp[entry] = htheta(x, theta)[entry] * (1 - htheta(x, theta)[entry]) * out[entry,:,:]\n",
    "    # sum!\n",
    "    hes = np.sum(tmp, axis = 0)\n",
    "    return hes\n",
    "\n",
    "def Newton(x, y, theta, n_iters):\n",
    "    mm = x.shape[0]\n",
    "    for i in range(n_iters):\n",
    "        # grad stands for gradient\n",
    "        # hess stands for Hessian\n",
    "        grad = -1./mm * np.sum( htheta(-y*x, theta)*y*x, axis = 0 )\n",
    "        hess = 1./mm * Hess(x, theta)\n",
    "        theta = theta - np.linalg.inv(hess).dot(grad)\n",
    "        #theta.reshape(theta.size,1)\n",
    "    return theta"
   ]
  },
  {
   "cell_type": "code",
   "execution_count": 63,
   "metadata": {},
   "outputs": [
    {
     "name": "stdout",
     "output_type": "stream",
     "text": [
      "x:\n",
      "(99, 3)\n",
      "y:\n",
      "(99, 1)\n",
      "theta\n",
      "(3,)\n"
     ]
    }
   ],
   "source": [
    "# now load data\n",
    "x = np.loadtxt('../data/CS229_PS1_ex1_logistic_x.txt')\n",
    "y = np.loadtxt('../data/CS229_PS1_ex1_logistic_y.txt')\n",
    "\n",
    "## some cosmetics\n",
    "y_train = y.reshape(y.size, 1)\n",
    "\n",
    "# add intercept term to x\n",
    "intercept = np.ones(x.shape[0]).reshape(x.shape[0],1)\n",
    "x_train = np.hstack((intercept, x))\n",
    "#x_train = x_train[0:2,:]\n",
    "#y_train = y_train[0:2,:]\n",
    "print('x:')\n",
    "print(x_train.shape)\n",
    "#print(x_train)\n",
    "\n",
    "print('y:')\n",
    "print(y_train.shape)\n",
    "#print(y_train)\n",
    "\n",
    "# initialize theta at '0'\n",
    "theta = np.zeros(x_train.shape[1])\n",
    "print('theta')\n",
    "#theta = theta.reshape(x_train.shape[1],1)\n",
    "print(theta.shape)\n",
    "#print(theta)"
   ]
  },
  {
   "cell_type": "code",
   "execution_count": 64,
   "metadata": {},
   "outputs": [
    {
     "name": "stdout",
     "output_type": "stream",
     "text": [
      "(3,)\n",
      "[-2.6205116   0.76037154  1.17194674]\n"
     ]
    }
   ],
   "source": [
    "# now run ...\n",
    "best_theta = Newton(x_train, y_train, theta, 10)\n",
    "print(best_theta.shape)\n",
    "print(best_theta)"
   ]
  },
  {
   "cell_type": "code",
   "execution_count": 79,
   "metadata": {},
   "outputs": [
    {
     "data": {
      "text/plain": [
       "<matplotlib.text.Text at 0x10688b1d0>"
      ]
     },
     "execution_count": 79,
     "metadata": {},
     "output_type": "execute_result"
    },
    {
     "data": {
      "image/png": "[encoded data removed]",
      "text/plain": [
       "<matplotlib.figure.Figure at 0x1063dff50>"
      ]
     },
     "metadata": {},
     "output_type": "display_data"
    }
   ],
   "source": [
    "# now plot the data\n",
    "plt.scatter(x[y==1][:,0],x[y==1][:,1],c='r',marker='o')\n",
    "plt.scatter(x[y==-1][:,0],x[y==-1][:,1],c='b',marker='s')\n",
    "plt.xlabel('x1')\n",
    "plt.ylabel('x2')\n"
   ]
  },
  {
   "cell_type": "markdown",
   "metadata": {},
   "source": [
    "The regression is performed with:\n",
    "\n",
    "$ y = \\theta_0 + \\theta_{1}x_1 + \\theta_{2}x_2 $\n",
    "\n",
    "so the separation line between the two categories is $ y = 0 $, therefore:\n",
    "\n",
    "$ x_2 = -\\frac{\\theta_1}{\\theta_2}x_1 -\\frac{\\theta_0}{\\theta_2} $"
   ]
  },
  {
   "cell_type": "code",
   "execution_count": 85,
   "metadata": {},
   "outputs": [
    {
     "name": "stdout",
     "output_type": "stream",
     "text": [
      "[-2.6205116   0.76037154  1.17194674]\n"
     ]
    },
    {
     "data": {
      "text/plain": [
       "[<matplotlib.lines.Line2D at 0x1062a6750>]"
      ]
     },
     "execution_count": 85,
     "metadata": {},
     "output_type": "execute_result"
    },
    {
     "data": {
      "image/png": "[encoded data removed]",
      "text/plain": [
       "<matplotlib.figure.Figure at 0x1064b0150>"
      ]
     },
     "metadata": {},
     "output_type": "display_data"
    }
   ],
   "source": [
    "# the scatter plot is copied from above :)\n",
    "plt.scatter(x[y==1][:,0],x[y==1][:,1],c='r',marker='o')\n",
    "plt.scatter(x[y==-1][:,0],x[y==-1][:,1],c='b',marker='s')\n",
    "plt.xlabel('x1')\n",
    "plt.ylabel('x2')\n",
    "\n",
    "# now implement the line\n",
    "print(best_theta)\n",
    "\n",
    "x1 = range(0,9)\n",
    "x2 = [-best_theta[1]/best_theta[2]*xx - best_theta[0]/best_theta[2] for xx in x1]\n",
    "plt.plot(x1, x2)\n"
   ]
  },
  {
   "cell_type": "code",
   "execution_count": null,
   "metadata": {
    "collapsed": true
   },
   "outputs": [],
   "source": []
  }
 ],
 "metadata": {
  "kernelspec": {
   "display_name": "Python 2",
   "language": "python",
   "name": "python2"
  },
  "language_info": {
   "codemirror_mode": {
    "name": "ipython",
    "version": 2
   },
   "file_extension": ".py",
   "mimetype": "text/x-python",
   "name": "python",
   "nbconvert_exporter": "python",
   "pygments_lexer": "ipython2",
   "version": "2.7.13"
  }
 },
 "nbformat": 4,
 "nbformat_minor": 2
}
