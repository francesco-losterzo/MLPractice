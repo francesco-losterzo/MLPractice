{
 "cells": [
  {
   "cell_type": "markdown",
   "metadata": {},
   "source": [
    "# Linear Regression: basic exercises\n",
    "taken from: http://www.analyzemath.com/statistics/linear_regression.html"
   ]
  },
  {
   "cell_type": "markdown",
   "metadata": {},
   "source": [
    "## ex. 1\n",
    "Consider the following set of points: {(-2 , -1) , (1 , 1) , (3 , 2)} \n",
    "a) Find the least square regression line for the given data points. \n",
    "b) Plot the given points and the regression line in the same rectangualr system of axes."
   ]
  },
  {
   "cell_type": "code",
   "execution_count": 3,
   "metadata": {
    "collapsed": true
   },
   "outputs": [],
   "source": [
    "# import stuff\n",
    "import numpy as np\n",
    "import matplotlib.pyplot as plt\n",
    "%matplotlib inline"
   ]
  },
  {
   "cell_type": "code",
   "execution_count": 4,
   "metadata": {},
   "outputs": [
    {
     "name": "stdout",
     "output_type": "stream",
     "text": [
      "((3,), (3,))\n"
     ]
    },
    {
     "data": {
      "image/png": "[encoded data removed]",
      "text/plain": [
       "<matplotlib.figure.Figure at 0x110b39b50>"
      ]
     },
     "metadata": {},
     "output_type": "display_data"
    }
   ],
   "source": [
    "# declare data\n",
    "X = np.array([-2, 1, 3])\n",
    "Y = np.array([-1, 1, 2])\n",
    "print(X.shape, Y.shape)\n",
    "\n",
    "# plot data\n",
    "plt.scatter(X,Y);"
   ]
  },
  {
   "cell_type": "code",
   "execution_count": 5,
   "metadata": {},
   "outputs": [
    {
     "name": "stdout",
     "output_type": "stream",
     "text": [
      "((3, 1), (3, 1))\n"
     ]
    },
    {
     "name": "stderr",
     "output_type": "stream",
     "text": [
      "/usr/local/lib/python2.7/site-packages/scipy/linalg/basic.py:1018: RuntimeWarning: internal gelsd driver lwork query error, required iwork dimension not returned. This is likely the result of LAPACK bug 0038, fixed in LAPACK 3.2.2 (released July 21, 2010). Falling back to 'gelss' driver.\n",
      "  warnings.warn(mesg, RuntimeWarning)\n"
     ]
    },
    {
     "data": {
      "text/plain": [
       "LinearRegression(copy_X=True, fit_intercept=True, n_jobs=1, normalize=False)"
      ]
     },
     "execution_count": 5,
     "metadata": {},
     "output_type": "execute_result"
    }
   ],
   "source": [
    "from sklearn.linear_model import LinearRegression\n",
    "model = LinearRegression()\n",
    "\n",
    "# here we need some reshaping:\n",
    "# I don't really know why, but LinearRegression() complains\n",
    "# this is not done\n",
    "X_train = X.reshape(len(X),-1)\n",
    "Y_train = Y.reshape(len(Y),-1)\n",
    "print(X_train.shape, Y_train.shape)\n",
    "\n",
    "model.fit(X_train, Y_train)"
   ]
  },
  {
   "cell_type": "code",
   "execution_count": 6,
   "metadata": {
    "collapsed": true
   },
   "outputs": [],
   "source": [
    "# invent some test data\n",
    "X_new = np.array([-1, 2, 5, 0])\n",
    "X_test = X_new.reshape(len(X_new),-1)\n",
    "\n",
    "predictions = model.predict(X_test)"
   ]
  },
  {
   "cell_type": "code",
   "execution_count": 7,
   "metadata": {},
   "outputs": [
    {
     "data": {
      "image/png": "[encoded data removed]",
      "text/plain": [
       "<matplotlib.figure.Figure at 0x110dd5bd0>"
      ]
     },
     "metadata": {},
     "output_type": "display_data"
    }
   ],
   "source": [
    "# update the plot\n",
    "# plot data\n",
    "plt.scatter(X_train, Y_train)\n",
    "plt.scatter(X_test, predictions, c='r');"
   ]
  },
  {
   "cell_type": "code",
   "execution_count": 8,
   "metadata": {},
   "outputs": [
    {
     "name": "stdout",
     "output_type": "stream",
     "text": [
      "((1, 1), (1,))\n",
      "(0.60526315789473684, 0.26315789473684209)\n"
     ]
    }
   ],
   "source": [
    "## retrieve coefficients from the model: y = m*x + q\n",
    "m = model.coef_\n",
    "q = model.intercept_\n",
    "\n",
    "print(m.shape, q.shape)\n",
    "print(m[0][0], q[0])"
   ]
  },
  {
   "cell_type": "code",
   "execution_count": 9,
   "metadata": {},
   "outputs": [
    {
     "data": {
      "image/png": "[encoded data removed]",
      "text/plain": [
       "<matplotlib.figure.Figure at 0x1131634d0>"
      ]
     },
     "metadata": {},
     "output_type": "display_data"
    }
   ],
   "source": [
    "## update the plot with also the fitted line\n",
    "plt.scatter(X_train, Y_train)\n",
    "plt.scatter(X_test, predictions, c='r')\n",
    "\n",
    "## build the fit line\n",
    "x_range = range(-2,6)\n",
    "line_val = [m[0][0] * i + q[0] for i in x_range]\n",
    "plt.plot(x_range, line_val);\n"
   ]
  },
  {
   "cell_type": "markdown",
   "metadata": {
    "collapsed": true
   },
   "source": [
    "## ex. 2\n",
    "a) Find the least square regression line for the following set of data \n",
    "{(-1 , 0),(0 , 2),(1 , 4),(2 , 5)}\n",
    "\n",
    "b) Plot the given points and the regression line in the same rectangualr system of axes."
   ]
  },
  {
   "cell_type": "code",
   "execution_count": 4,
   "metadata": {
    "collapsed": true
   },
   "outputs": [],
   "source": [
    "## import stuff\n",
    "import numpy as np\n",
    "import matplotlib.pyplot as plt\n",
    "%matplotlib inline"
   ]
  },
  {
   "cell_type": "code",
   "execution_count": 6,
   "metadata": {},
   "outputs": [
    {
     "data": {
      "text/plain": [
       "<matplotlib.collections.PathCollection at 0x10bec7f10>"
      ]
     },
     "execution_count": 6,
     "metadata": {},
     "output_type": "execute_result"
    },
    {
     "data": {
      "image/png": "[encoded data removed]",
      "text/plain": [
       "<matplotlib.figure.Figure at 0x10be2c6d0>"
      ]
     },
     "metadata": {},
     "output_type": "display_data"
    }
   ],
   "source": [
    "# declare data\n",
    "ex2_X = np.array([-1, 0, 1, 2])\n",
    "ex2_Y = np.array([0, 2, 4, 5])\n",
    "\n",
    "# plot data just to take a look\n",
    "plt.scatter(ex2_X, ex2_Y)"
   ]
  },
  {
   "cell_type": "code",
   "execution_count": 8,
   "metadata": {},
   "outputs": [
    {
     "name": "stderr",
     "output_type": "stream",
     "text": [
      "/usr/local/lib/python2.7/site-packages/scipy/linalg/basic.py:1018: RuntimeWarning: internal gelsd driver lwork query error, required iwork dimension not returned. This is likely the result of LAPACK bug 0038, fixed in LAPACK 3.2.2 (released July 21, 2010). Falling back to 'gelss' driver.\n",
      "  warnings.warn(mesg, RuntimeWarning)\n"
     ]
    },
    {
     "data": {
      "text/plain": [
       "LinearRegression(copy_X=True, fit_intercept=True, n_jobs=1, normalize=False)"
      ]
     },
     "execution_count": 8,
     "metadata": {},
     "output_type": "execute_result"
    }
   ],
   "source": [
    "# import LinearRegression from sklearn\n",
    "from sklearn.linear_model import LinearRegression\n",
    "ex2_model = LinearRegression()\n",
    "\n",
    "# as usual the data format needs some manipulation:\n",
    "# LinearRegression wants matrixes, not vectors: (n,) -> (n,1)\n",
    "ex2_X_train = ex2_X.reshape(len(ex2_X),1)\n",
    "ex2_Y_train = ex2_Y.reshape(len(ex2_Y),1)\n",
    "\n",
    "ex2_model.fit(ex2_X_train, ex2_Y_train)"
   ]
  },
  {
   "cell_type": "code",
   "execution_count": 10,
   "metadata": {},
   "outputs": [
    {
     "name": "stdout",
     "output_type": "stream",
     "text": [
      "((1, 1), (1,))\n",
      "(1.6999999999999997, 1.9000000000000001)\n"
     ]
    }
   ],
   "source": [
    "## extract the line parameters from the model: y = m*x + q\n",
    "ex2_m = ex2_model.coef_\n",
    "ex2_q = ex2_model.intercept_\n",
    "\n",
    "print(ex2_m.shape, ex2_q.shape)\n",
    "print(ex2_m[0][0], ex2_q[0])"
   ]
  },
  {
   "cell_type": "code",
   "execution_count": 13,
   "metadata": {},
   "outputs": [
    {
     "data": {
      "text/plain": [
       "[<matplotlib.lines.Line2D at 0x10e3e5d90>]"
      ]
     },
     "execution_count": 13,
     "metadata": {},
     "output_type": "execute_result"
    },
    {
     "data": {
      "image/png": "[encoded data removed]",
      "text/plain": [
       "<matplotlib.figure.Figure at 0x10e3e5690>"
      ]
     },
     "metadata": {},
     "output_type": "display_data"
    }
   ],
   "source": [
    "# plot points and line on the same \"canvas\"\n",
    "plt.scatter(ex2_X_train, ex2_Y_train);\n",
    "\n",
    "# build the line\n",
    "x_range = range(-1,3)\n",
    "line_val = [ex2_m[0][0]*x + ex2_q for x in x_range]\n",
    "plt.plot(x_range, line_val)"
   ]
  },
  {
   "cell_type": "code",
   "execution_count": null,
   "metadata": {
    "collapsed": true
   },
   "outputs": [],
   "source": []
  }
 ],
 "metadata": {
  "kernelspec": {
   "display_name": "Python 2",
   "language": "python",
   "name": "python2"
  },
  "language_info": {
   "codemirror_mode": {
    "name": "ipython",
    "version": 2
   },
   "file_extension": ".py",
   "mimetype": "text/x-python",
   "name": "python",
   "nbconvert_exporter": "python",
   "pygments_lexer": "ipython2",
   "version": "2.7.13"
  }
 },
 "nbformat": 4,
 "nbformat_minor": 2
}
